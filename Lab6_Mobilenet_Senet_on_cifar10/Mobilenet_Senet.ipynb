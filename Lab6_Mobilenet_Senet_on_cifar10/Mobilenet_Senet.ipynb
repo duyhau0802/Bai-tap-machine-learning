{
  "nbformat": 4,
  "nbformat_minor": 0,
  "metadata": {
    "colab": {
      "provenance": [],
      "gpuType": "T4"
    },
    "kernelspec": {
      "name": "python3",
      "display_name": "Python 3"
    },
    "language_info": {
      "name": "python"
    },
    "accelerator": "GPU"
  },
  "cells": [
    {
      "cell_type": "markdown",
      "source": [
        "# Mobile net"
      ],
      "metadata": {
        "id": "-RaJwjAe36I6"
      }
    },
    {
      "cell_type": "code",
      "execution_count": null,
      "metadata": {
        "id": "M6qNHHcX0z5-"
      },
      "outputs": [],
      "source": [
        "\n",
        "'''\n",
        "MobileNet in TensorFlow2.\n",
        "\n",
        "Reference:\n",
        "[1] Howard, Andrew G., et al.\n",
        "    \"Mobilenets: Efficient convolutional neural networks for mobile vision applications.\"\n",
        "    arXiv preprint arXiv:1704.04861 (2017).\n",
        "'''\n",
        "import tensorflow as tf\n",
        "from tensorflow.keras import layers\n",
        "\n",
        "\n",
        "\n",
        "class Block(tf.keras.Model):\n",
        "    '''Depthwise convolution + pointwise convolution'''\n",
        "    def __init__(self, in_channels, out_channels, strides=1):\n",
        "        super(Block, self).__init__()\n",
        "        self.conv1 = layers.Conv2D(in_channels, kernel_size=3, strides=strides, padding='same',\n",
        "                                   groups=in_channels, use_bias=False)\n",
        "        self.bn1 = layers.BatchNormalization()\n",
        "        self.conv2 = layers.Conv2D(out_channels, kernel_size=1, use_bias=False)\n",
        "        self.bn2 = layers.BatchNormalization()\n",
        "\n",
        "    def call(self, x):\n",
        "        out = tf.keras.activations.relu(self.bn1(self.conv1(x)))\n",
        "        out = tf.keras.activations.relu(self.bn2(self.conv2(out)))\n",
        "        return out\n",
        "\n",
        "class MobileNet(tf.keras.Model):\n",
        "    # (128, 2) represents convolution layer with filters=128, strides=2\n",
        "    config = [64, (128,2), 128, (256,2), 256, (512,2), 512, 512, 512, 512, 512, (1024,2), 1024]\n",
        "\n",
        "    def __init__(self, num_classes, input_shape=(32, 32, 3)):\n",
        "        super(MobileNet, self).__init__()\n",
        "        self.conv1 = layers.Conv2D(32, kernel_size=3, padding='same', use_bias=False, input_shape=input_shape)\n",
        "        self.bn1 = layers.BatchNormalization()\n",
        "        self.layer = self._make_layers(in_channels=32)\n",
        "        self.avg_pool2d = layers.AveragePooling2D(pool_size=2)\n",
        "        self.flatten = layers.Flatten()\n",
        "        self.fc = layers.Dense(num_classes, activation='softmax')\n",
        "\n",
        "    def call(self, x):\n",
        "        out = tf.keras.activations.relu(self.bn1(self.conv1(x)))\n",
        "        out = self.layer(out)\n",
        "        out = self.avg_pool2d(out)\n",
        "        out = self.flatten(out)\n",
        "        out = self.fc(out)\n",
        "        return out\n",
        "\n",
        "    def _make_layers(self, in_channels):\n",
        "        layer = []\n",
        "        for c in self.config:\n",
        "            out_channels = c if isinstance(c, int) else c[0]\n",
        "            strides = 1 if isinstance(c, int) else c[1]\n",
        "            layer += [Block(in_channels, out_channels, strides)]\n",
        "            in_channels = out_channels\n",
        "        return tf.keras.Sequential(layer)"
      ]
    },
    {
      "cell_type": "markdown",
      "source": [
        "# Main\n"
      ],
      "metadata": {
        "id": "NN2H3eodGUv0"
      }
    },
    {
      "cell_type": "code",
      "source": [
        "# Tải dữ liệu CIFAR10\n",
        "(x_train, y_train), (x_test, y_test) = tf.keras.datasets.cifar10.load_data()\n",
        "\n",
        "# Chuẩn hóa dữ liệu\n",
        "x_train = x_train / 255.0\n",
        "x_test = x_test / 255.0\n"
      ],
      "metadata": {
        "colab": {
          "base_uri": "https://localhost:8080/"
        },
        "id": "BKlLRusxGUJU",
        "outputId": "e97c0be4-99ce-4395-9f12-d8b538d37d98"
      },
      "execution_count": null,
      "outputs": [
        {
          "output_type": "stream",
          "name": "stdout",
          "text": [
            "Downloading data from https://www.cs.toronto.edu/~kriz/cifar-10-python.tar.gz\n",
            "170498071/170498071 [==============================] - 5s 0us/step\n"
          ]
        }
      ]
    },
    {
      "cell_type": "code",
      "source": [
        "# Tạo và huấn luyện mô hình\n",
        "model = MobileNet(10)\n",
        "model.compile(optimizer='adam', loss='sparse_categorical_crossentropy', metrics=['accuracy'])"
      ],
      "metadata": {
        "id": "pqJfxETgGkMv"
      },
      "execution_count": null,
      "outputs": []
    },
    {
      "cell_type": "code",
      "source": [
        "model.fit(x_train,y_train, epochs=10)"
      ],
      "metadata": {
        "colab": {
          "base_uri": "https://localhost:8080/"
        },
        "id": "Bsii1Cw7XiO1",
        "outputId": "5f00e854-01a4-417d-e757-82fc52585843"
      },
      "execution_count": null,
      "outputs": [
        {
          "output_type": "stream",
          "name": "stdout",
          "text": [
            "Epoch 1/10\n",
            "1563/1563 [==============================] - 73s 28ms/step - loss: 1.6572 - accuracy: 0.3927\n",
            "Epoch 2/10\n",
            "1563/1563 [==============================] - 38s 25ms/step - loss: 1.2565 - accuracy: 0.5545\n",
            "Epoch 3/10\n",
            "1563/1563 [==============================] - 39s 25ms/step - loss: 1.0128 - accuracy: 0.6474\n",
            "Epoch 4/10\n",
            "1563/1563 [==============================] - 39s 25ms/step - loss: 0.8405 - accuracy: 0.7102\n",
            "Epoch 5/10\n",
            "1563/1563 [==============================] - 39s 25ms/step - loss: 0.7148 - accuracy: 0.7526\n",
            "Epoch 6/10\n",
            "1563/1563 [==============================] - 39s 25ms/step - loss: 0.6262 - accuracy: 0.7835\n",
            "Epoch 7/10\n",
            "1563/1563 [==============================] - 39s 25ms/step - loss: 0.5362 - accuracy: 0.8139\n",
            "Epoch 8/10\n",
            "1563/1563 [==============================] - 39s 25ms/step - loss: 0.4592 - accuracy: 0.8410\n",
            "Epoch 9/10\n",
            "1563/1563 [==============================] - 39s 25ms/step - loss: 0.3922 - accuracy: 0.8646\n",
            "Epoch 10/10\n",
            "1563/1563 [==============================] - 39s 25ms/step - loss: 0.3405 - accuracy: 0.8812\n"
          ]
        },
        {
          "output_type": "execute_result",
          "data": {
            "text/plain": [
              "<keras.src.callbacks.History at 0x7be5a71167a0>"
            ]
          },
          "metadata": {},
          "execution_count": 6
        }
      ]
    },
    {
      "cell_type": "code",
      "source": [
        "# Đánh giá mô hình\n",
        "model.evaluate(x_test, y_test)"
      ],
      "metadata": {
        "colab": {
          "base_uri": "https://localhost:8080/"
        },
        "id": "ak36w0mAOvEq",
        "outputId": "2784a378-2405-4da6-cb3c-702d1459442c"
      },
      "execution_count": null,
      "outputs": [
        {
          "output_type": "stream",
          "name": "stdout",
          "text": [
            "313/313 [==============================] - 6s 12ms/step - loss: 0.6717 - accuracy: 0.7890\n"
          ]
        },
        {
          "output_type": "execute_result",
          "data": {
            "text/plain": [
              "[0.6717327237129211, 0.7889999747276306]"
            ]
          },
          "metadata": {},
          "execution_count": 7
        }
      ]
    },
    {
      "cell_type": "code",
      "source": [
        "model.save(\"model_mobilenet\")"
      ],
      "metadata": {
        "id": "kKMUjjoRVNA0"
      },
      "execution_count": null,
      "outputs": []
    },
    {
      "cell_type": "markdown",
      "source": [
        "# Senet model"
      ],
      "metadata": {
        "id": "TXx6WAZKU6LT"
      }
    },
    {
      "cell_type": "code",
      "source": [
        "'''\n",
        "SEResNet18/34/50/101/152 in TensorFlow2.\n",
        "SEPreActResNet18/34/50/101/152 in TensorFlow2.\n",
        "\n",
        "Reference:\n",
        "[1] Hu, Jie, Li Shen, and Gang Sun.\n",
        "    \"Squeeze-and-excitation networks.\"\n",
        "    Proceedings of the IEEE conference on computer vision and pattern recognition. 2018.\n",
        "'''\n",
        "import tensorflow as tf\n",
        "from tensorflow.keras import layers\n",
        "!pip install tensorflow-addons\n",
        "import tensorflow_addons as tfa\n",
        "import sys\n",
        "\n",
        "class SELayer(tf.keras.Model):\n",
        "    def __init__(self, out_channels, reduction=16):\n",
        "        super(SELayer, self).__init__()\n",
        "        self.adapt_pool2d = tfa.layers.AdaptiveAveragePooling2D(output_size=1)\n",
        "        self.squeeze = tf.keras.Sequential([\n",
        "            layers.Conv2D(out_channels//reduction, kernel_size=1, use_bias=False, activation='relu'),\n",
        "            layers.Conv2D(out_channels, kernel_size=1, use_bias=False, activation='sigmoid')\n",
        "        ])\n",
        "\n",
        "    def call(self, x):\n",
        "        # Squeeze\n",
        "        out = self.adapt_pool2d(x)\n",
        "        out = self.squeeze(out)\n",
        "        ###old code\n",
        "        # Excitation\n",
        "        # out = x * tf.broadcast_to(out, x.shape)\n",
        "        # return out\n",
        "        #####\n",
        "        # Excitation\n",
        "        shape = tf.shape(x)\n",
        "        out = tf.broadcast_to(out, shape)\n",
        "        out = x * out\n",
        "        return out\n",
        "\n",
        "class BasicBlock(tf.keras.Model):\n",
        "    expansion = 1\n",
        "\n",
        "    def __init__(self, in_channels, out_channels, strides=1, reduction=16):\n",
        "        super(BasicBlock, self).__init__()\n",
        "        self.conv1 = layers.Conv2D(out_channels, kernel_size=3, strides=strides, padding='same', use_bias=False)\n",
        "        self.bn1 = layers.BatchNormalization()\n",
        "        self.conv2 = layers.Conv2D(out_channels, kernel_size=3, padding='same', use_bias=False)\n",
        "        self.bn2 = layers.BatchNormalization()\n",
        "        self.se = SELayer(self.expansion*out_channels, reduction)\n",
        "\n",
        "        if strides != 1 or in_channels != self.expansion*out_channels:\n",
        "            self.shortcut = tf.keras.Sequential([\n",
        "                layers.Conv2D(self.expansion*out_channels, kernel_size=1, strides=strides, use_bias=False),\n",
        "                layers.BatchNormalization()\n",
        "            ])\n",
        "        else:\n",
        "            self.shortcut = lambda x: x\n",
        "\n",
        "    def call(self, x):\n",
        "        out = tf.keras.activations.relu(self.bn1(self.conv1(x)))\n",
        "        out = self.se(self.bn2(self.conv2(out)))\n",
        "        out = layers.add([self.shortcut(x), out])\n",
        "        out = tf.keras.activations.relu(out)\n",
        "        return out\n",
        "\n",
        "class BuildSEResNet(tf.keras.Model):\n",
        "    def __init__(self, block, num_blocks, num_classes, reduction=16,input_shape=(32, 32, 3)):\n",
        "        super(BuildSEResNet, self).__init__()\n",
        "        self.in_channels = 64\n",
        "\n",
        "        self.conv1 = layers.Conv2D(64, kernel_size=3, strides=1, padding='same', use_bias=False, input_shape=input_shape)\n",
        "        self.bn1 = layers.BatchNormalization()\n",
        "        self.layer1 = self._make_layer(block, 64, num_blocks[0], strides=1, reduction=reduction)\n",
        "        self.layer2 = self._make_layer(block, 128, num_blocks[1], strides=2, reduction=reduction)\n",
        "        self.layer3 = self._make_layer(block, 256, num_blocks[2], strides=2, reduction=reduction)\n",
        "        self.layer4 = self._make_layer(block, 512, num_blocks[3], strides=2, reduction=reduction)\n",
        "        self.avg_pool2d = layers.AveragePooling2D(pool_size=4)\n",
        "        self.flatten = layers.Flatten()\n",
        "        self.fc = layers.Dense(num_classes, activation='softmax')\n",
        "\n",
        "    def call(self, x):\n",
        "        out = tf.keras.activations.relu(self.bn1(self.conv1(x)))\n",
        "        out = self.layer1(out)\n",
        "        out = self.layer2(out)\n",
        "        out = self.layer3(out)\n",
        "        out = self.layer4(out)\n",
        "        out = self.avg_pool2d(out)\n",
        "        out = self.flatten(out)\n",
        "        out = self.fc(out)\n",
        "        return out\n",
        "\n",
        "    def _make_layer(self, block, out_channels, num_blocks, strides, reduction):\n",
        "        stride = [strides] + [1]*(num_blocks-1)\n",
        "        layer = []\n",
        "        for s in stride:\n",
        "            layer += [block(self.in_channels, out_channels, s, reduction)]\n",
        "            self.in_channels = out_channels * block.expansion\n",
        "        return tf.keras.Sequential(layer)\n",
        "\n",
        "def SEResNet(num_classes):\n",
        "  return  BuildSEResNet(BasicBlock, [2, 2, 2, 2], num_classes)\n"
      ],
      "metadata": {
        "id": "JoLTQfR0U9_p",
        "colab": {
          "base_uri": "https://localhost:8080/"
        },
        "outputId": "9ec34a0e-1b5a-483e-bba2-47a716a84d3e"
      },
      "execution_count": null,
      "outputs": [
        {
          "output_type": "stream",
          "name": "stdout",
          "text": [
            "Requirement already satisfied: tensorflow-addons in /usr/local/lib/python3.10/dist-packages (0.22.0)\n",
            "Requirement already satisfied: packaging in /usr/local/lib/python3.10/dist-packages (from tensorflow-addons) (23.2)\n",
            "Requirement already satisfied: typeguard<3.0.0,>=2.7 in /usr/local/lib/python3.10/dist-packages (from tensorflow-addons) (2.13.3)\n"
          ]
        }
      ]
    },
    {
      "cell_type": "code",
      "source": [
        "# Tải dữ liệu CIFAR10\n",
        "(x_train, y_train), (x_test, y_test) = tf.keras.datasets.cifar10.load_data()\n",
        "\n",
        "# Chuẩn hóa dữ liệu\n",
        "x_train = x_train / 255.0\n",
        "x_test = x_test / 255.0"
      ],
      "metadata": {
        "id": "6aISESYHbK5D"
      },
      "execution_count": null,
      "outputs": []
    },
    {
      "cell_type": "code",
      "source": [
        "# Tạo và huấn luyện mô hình\n",
        "model_SENet = BuildSEResNet(BasicBlock, [2, 2, 2, 2], 10)\n",
        "\n",
        "model_SENet.compile(optimizer='adam', loss='sparse_categorical_crossentropy', metrics=['accuracy'])\n",
        "model_SENet.fit(x_train, y_train, epochs=5)\n"
      ],
      "metadata": {
        "colab": {
          "base_uri": "https://localhost:8080/"
        },
        "id": "QARh7hQ0VCZQ",
        "outputId": "87cb2400-44ea-4ae4-b0a7-63cfea6acef8"
      },
      "execution_count": null,
      "outputs": [
        {
          "output_type": "stream",
          "name": "stdout",
          "text": [
            "Epoch 1/5\n",
            "1563/1563 [==============================] - 105s 46ms/step - loss: 1.1898 - accuracy: 0.5749\n",
            "Epoch 2/5\n",
            "1563/1563 [==============================] - 71s 45ms/step - loss: 0.7205 - accuracy: 0.7479\n",
            "Epoch 3/5\n",
            "1563/1563 [==============================] - 70s 45ms/step - loss: 0.5360 - accuracy: 0.8133\n",
            "Epoch 4/5\n",
            "1563/1563 [==============================] - 71s 45ms/step - loss: 0.4042 - accuracy: 0.8596\n",
            "Epoch 5/5\n",
            "1563/1563 [==============================] - 70s 45ms/step - loss: 0.2960 - accuracy: 0.8956\n"
          ]
        },
        {
          "output_type": "execute_result",
          "data": {
            "text/plain": [
              "<keras.src.callbacks.History at 0x7e2fa8cba4d0>"
            ]
          },
          "metadata": {},
          "execution_count": 20
        }
      ]
    },
    {
      "cell_type": "code",
      "source": [
        "model_SENet.summary()"
      ],
      "metadata": {
        "colab": {
          "base_uri": "https://localhost:8080/"
        },
        "id": "sWcLhprBX-ey",
        "outputId": "74aca7f6-b720-4777-bb01-e206adbe6e33"
      },
      "execution_count": null,
      "outputs": [
        {
          "output_type": "stream",
          "name": "stdout",
          "text": [
            "Model: \"build_se_res_net_7\"\n",
            "_________________________________________________________________\n",
            " Layer (type)                Output Shape              Param #   \n",
            "=================================================================\n",
            " conv2d_316 (Conv2D)         multiple                  1728      \n",
            "                                                                 \n",
            " batch_normalization_172 (B  multiple                  256       \n",
            " atchNormalization)                                              \n",
            "                                                                 \n",
            " sequential_123 (Sequential  (None, 32, 32, 64)        149504    \n",
            " )                                                               \n",
            "                                                                 \n",
            " sequential_127 (Sequential  (None, 16, 16, 128)       530944    \n",
            " )                                                               \n",
            "                                                                 \n",
            " sequential_131 (Sequential  (None, 8, 8, 256)         2118656   \n",
            " )                                                               \n",
            "                                                                 \n",
            " sequential_135 (Sequential  (None, 4, 4, 512)         8464384   \n",
            " )                                                               \n",
            "                                                                 \n",
            " average_pooling2d_7 (Avera  multiple                  0         \n",
            " gePooling2D)                                                    \n",
            "                                                                 \n",
            " flatten_7 (Flatten)         multiple                  0         \n",
            "                                                                 \n",
            " dense_7 (Dense)             multiple                  5130      \n",
            "                                                                 \n",
            "=================================================================\n",
            "Total params: 11270602 (42.99 MB)\n",
            "Trainable params: 11261002 (42.96 MB)\n",
            "Non-trainable params: 9600 (37.50 KB)\n",
            "_________________________________________________________________\n"
          ]
        }
      ]
    },
    {
      "cell_type": "code",
      "source": [
        "model_SENet.evaluate(x_test, y_test)"
      ],
      "metadata": {
        "colab": {
          "base_uri": "https://localhost:8080/"
        },
        "id": "YbGL-PbQY78E",
        "outputId": "aa033208-3294-4776-cd92-8cdd9937ab6d"
      },
      "execution_count": null,
      "outputs": [
        {
          "output_type": "stream",
          "name": "stdout",
          "text": [
            "313/313 [==============================] - 7s 17ms/step - loss: 0.5439 - accuracy: 0.8167\n"
          ]
        },
        {
          "output_type": "execute_result",
          "data": {
            "text/plain": [
              "[0.543856680393219, 0.8166999816894531]"
            ]
          },
          "metadata": {},
          "execution_count": 23
        }
      ]
    },
    {
      "cell_type": "code",
      "source": [
        "model_SENet.fit(x_train, y_train, epochs=5)"
      ],
      "metadata": {
        "colab": {
          "base_uri": "https://localhost:8080/"
        },
        "id": "czYv_IpXjGmg",
        "outputId": "ebf327dc-bea9-4290-aedf-7de8a72d8221"
      },
      "execution_count": null,
      "outputs": [
        {
          "output_type": "stream",
          "name": "stdout",
          "text": [
            "Epoch 1/5\n",
            "1563/1563 [==============================] - 70s 45ms/step - loss: 0.2036 - accuracy: 0.9297\n",
            "Epoch 2/5\n",
            "1563/1563 [==============================] - 70s 45ms/step - loss: 0.1448 - accuracy: 0.9494\n",
            "Epoch 3/5\n",
            "1563/1563 [==============================] - 70s 45ms/step - loss: 0.1055 - accuracy: 0.9624\n",
            "Epoch 4/5\n",
            "1563/1563 [==============================] - 70s 45ms/step - loss: 0.0878 - accuracy: 0.9701\n",
            "Epoch 5/5\n",
            "1563/1563 [==============================] - 70s 45ms/step - loss: 0.0707 - accuracy: 0.9750\n"
          ]
        },
        {
          "output_type": "execute_result",
          "data": {
            "text/plain": [
              "<keras.src.callbacks.History at 0x7e2fb82d88b0>"
            ]
          },
          "metadata": {},
          "execution_count": 24
        }
      ]
    },
    {
      "cell_type": "code",
      "source": [
        "model_SENet.evaluate(x_test, y_test)"
      ],
      "metadata": {
        "colab": {
          "base_uri": "https://localhost:8080/"
        },
        "id": "S1gZgXYwnRa6",
        "outputId": "ed705686-cf38-4a12-cf39-a0fbad23f8c2"
      },
      "execution_count": null,
      "outputs": [
        {
          "output_type": "stream",
          "name": "stdout",
          "text": [
            "313/313 [==============================] - 4s 14ms/step - loss: 0.7341 - accuracy: 0.8351\n"
          ]
        },
        {
          "output_type": "execute_result",
          "data": {
            "text/plain": [
              "[0.7341488003730774, 0.835099995136261]"
            ]
          },
          "metadata": {},
          "execution_count": 46
        }
      ]
    }
  ]
}