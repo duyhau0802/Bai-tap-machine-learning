{
  "nbformat": 4,
  "nbformat_minor": 0,
  "metadata": {
    "colab": {
      "provenance": [],
      "gpuType": "T4"
    },
    "kernelspec": {
      "name": "python3",
      "display_name": "Python 3"
    },
    "language_info": {
      "name": "python"
    },
    "accelerator": "GPU"
  },
  "cells": [
    {
      "cell_type": "code",
      "execution_count": 1,
      "metadata": {
        "id": "azZuevGogg4Z"
      },
      "outputs": [],
      "source": [
        "import tensorflow as tf\n",
        "from tensorflow import keras\n",
        "from keras.datasets import mnist\n",
        "from keras.layers import Dense, Flatten,Conv2D, AveragePooling2D\n",
        "from keras.models import Sequential\n",
        "(x_train, y_train), (x_test,y_test) = mnist.load_data()"
      ]
    },
    {
      "cell_type": "code",
      "source": [
        "x_train.shape"
      ],
      "metadata": {
        "colab": {
          "base_uri": "https://localhost:8080/"
        },
        "id": "-TH0T1s-h_tA",
        "outputId": "4c4ba37f-cd07-4427-ab53-03c11caf54e1"
      },
      "execution_count": 3,
      "outputs": [
        {
          "output_type": "execute_result",
          "data": {
            "text/plain": [
              "(60000, 28, 28)"
            ]
          },
          "metadata": {},
          "execution_count": 3
        }
      ]
    },
    {
      "cell_type": "code",
      "source": [
        "#perfroming reshaping\n",
        "\n",
        "x_train = x_train.reshape(x_train.shape[0],28,28,1)\n",
        "x_test = x_test.reshape(x_test.shape[0],28,28,1)"
      ],
      "metadata": {
        "id": "7YbCWThFhvZr"
      },
      "execution_count": 4,
      "outputs": []
    },
    {
      "cell_type": "code",
      "source": [
        "x_train.shape"
      ],
      "metadata": {
        "colab": {
          "base_uri": "https://localhost:8080/"
        },
        "id": "WaXoNfS6ieFp",
        "outputId": "90e05531-ed8a-4996-98d1-55762a8a41c5"
      },
      "execution_count": 5,
      "outputs": [
        {
          "output_type": "execute_result",
          "data": {
            "text/plain": [
              "(60000, 28, 28, 1)"
            ]
          },
          "metadata": {},
          "execution_count": 5
        }
      ]
    },
    {
      "cell_type": "code",
      "source": [
        "#Normalization\n",
        "x_train = x_train / 255\n",
        "x_test = x_test/255"
      ],
      "metadata": {
        "id": "591nEWteiffw"
      },
      "execution_count": 6,
      "outputs": []
    },
    {
      "cell_type": "code",
      "source": [
        "y_train[0]"
      ],
      "metadata": {
        "colab": {
          "base_uri": "https://localhost:8080/"
        },
        "id": "fOLd7ESYjEdL",
        "outputId": "f2af5c54-4e69-421c-a160-b1b6ce27699f"
      },
      "execution_count": 7,
      "outputs": [
        {
          "output_type": "execute_result",
          "data": {
            "text/plain": [
              "5"
            ]
          },
          "metadata": {},
          "execution_count": 7
        }
      ]
    },
    {
      "cell_type": "code",
      "source": [
        "#One hot encoding\n",
        "y_train = keras.utils.to_categorical(y_train,10)\n",
        "y_test = keras.utils.to_categorical(y_test,10)"
      ],
      "metadata": {
        "id": "pAcsBJGSjIdw"
      },
      "execution_count": 8,
      "outputs": []
    },
    {
      "cell_type": "code",
      "source": [
        "y_train[0]"
      ],
      "metadata": {
        "colab": {
          "base_uri": "https://localhost:8080/"
        },
        "id": "Mivou9AZkCvU",
        "outputId": "1e90d866-0fa6-4313-8414-bbd99eeabf03"
      },
      "execution_count": 9,
      "outputs": [
        {
          "output_type": "execute_result",
          "data": {
            "text/plain": [
              "array([0., 0., 0., 0., 0., 1., 0., 0., 0., 0.], dtype=float32)"
            ]
          },
          "metadata": {},
          "execution_count": 9
        }
      ]
    },
    {
      "cell_type": "code",
      "source": [
        "#Model Architecture\n"
      ],
      "metadata": {
        "id": "6kJM6v8nkEtW"
      },
      "execution_count": 10,
      "outputs": []
    },
    {
      "cell_type": "code",
      "source": [
        "model = Sequential()\n",
        "\n",
        "model.add(Conv2D(6,kernel_size = (5,5), padding = 'valid', activation= 'tanh', input_shape = (28,28,1) ))\n",
        "model.add(AveragePooling2D(pool_size=(2,2), strides= 2, padding = 'valid'))\n",
        "\n",
        "model.add(Conv2D(16,kernel_size = (5,5), padding = 'valid', activation= 'tanh' ))\n",
        "model.add(AveragePooling2D(pool_size=(2,2), strides= 2, padding = 'valid'))\n",
        "\n",
        "model.add(Flatten())\n",
        "\n",
        "model.add(Dense(120, activation='tanh'))\n",
        "model.add(Dense(84, activation='tanh'))\n",
        "model.add(Dense(10, activation='softmax'))\n",
        "\n",
        "model.summary()"
      ],
      "metadata": {
        "colab": {
          "base_uri": "https://localhost:8080/"
        },
        "id": "k12hpuTxkSOg",
        "outputId": "707757e1-2970-46d4-e04f-1b6825e4ee78"
      },
      "execution_count": 11,
      "outputs": [
        {
          "output_type": "stream",
          "name": "stdout",
          "text": [
            "Model: \"sequential\"\n",
            "_________________________________________________________________\n",
            " Layer (type)                Output Shape              Param #   \n",
            "=================================================================\n",
            " conv2d (Conv2D)             (None, 24, 24, 6)         156       \n",
            "                                                                 \n",
            " average_pooling2d (Average  (None, 12, 12, 6)         0         \n",
            " Pooling2D)                                                      \n",
            "                                                                 \n",
            " conv2d_1 (Conv2D)           (None, 8, 8, 16)          2416      \n",
            "                                                                 \n",
            " average_pooling2d_1 (Avera  (None, 4, 4, 16)          0         \n",
            " gePooling2D)                                                    \n",
            "                                                                 \n",
            " flatten (Flatten)           (None, 256)               0         \n",
            "                                                                 \n",
            " dense (Dense)               (None, 120)               30840     \n",
            "                                                                 \n",
            " dense_1 (Dense)             (None, 84)                10164     \n",
            "                                                                 \n",
            " dense_2 (Dense)             (None, 10)                850       \n",
            "                                                                 \n",
            "=================================================================\n",
            "Total params: 44426 (173.54 KB)\n",
            "Trainable params: 44426 (173.54 KB)\n",
            "Non-trainable params: 0 (0.00 Byte)\n",
            "_________________________________________________________________\n"
          ]
        }
      ]
    },
    {
      "cell_type": "code",
      "source": [
        "model.compile(loss = keras.metrics.categorical_crossentropy, optimizer= keras.optimizers.Adam(), metrics = [\"accuracy\"] )"
      ],
      "metadata": {
        "id": "X_a1cap7myEB"
      },
      "execution_count": 12,
      "outputs": []
    },
    {
      "cell_type": "code",
      "source": [
        "model.fit(x_train,y_train, batch_size=128, epochs = 100, verbose =1, validation_data = (x_test,y_test))"
      ],
      "metadata": {
        "colab": {
          "base_uri": "https://localhost:8080/"
        },
        "id": "VWe0XWucnkkH",
        "outputId": "43f1adae-fd05-42fa-f3ea-69b069c89f2d"
      },
      "execution_count": 15,
      "outputs": [
        {
          "output_type": "stream",
          "name": "stdout",
          "text": [
            "Epoch 1/100\n",
            "469/469 [==============================] - 3s 6ms/step - loss: 0.0203 - accuracy: 0.9936 - val_loss: 0.0412 - val_accuracy: 0.9862\n",
            "Epoch 2/100\n",
            "469/469 [==============================] - 3s 6ms/step - loss: 0.0172 - accuracy: 0.9947 - val_loss: 0.0390 - val_accuracy: 0.9880\n",
            "Epoch 3/100\n",
            "469/469 [==============================] - 2s 5ms/step - loss: 0.0142 - accuracy: 0.9952 - val_loss: 0.0471 - val_accuracy: 0.9856\n",
            "Epoch 4/100\n",
            "469/469 [==============================] - 2s 5ms/step - loss: 0.0137 - accuracy: 0.9959 - val_loss: 0.0482 - val_accuracy: 0.9857\n",
            "Epoch 5/100\n",
            "469/469 [==============================] - 2s 5ms/step - loss: 0.0114 - accuracy: 0.9965 - val_loss: 0.0441 - val_accuracy: 0.9865\n",
            "Epoch 6/100\n",
            "469/469 [==============================] - 3s 6ms/step - loss: 0.0113 - accuracy: 0.9965 - val_loss: 0.0421 - val_accuracy: 0.9870\n",
            "Epoch 7/100\n",
            "469/469 [==============================] - 3s 6ms/step - loss: 0.0085 - accuracy: 0.9976 - val_loss: 0.0442 - val_accuracy: 0.9871\n",
            "Epoch 8/100\n",
            "469/469 [==============================] - 3s 5ms/step - loss: 0.0089 - accuracy: 0.9972 - val_loss: 0.0434 - val_accuracy: 0.9861\n",
            "Epoch 9/100\n",
            "469/469 [==============================] - 2s 5ms/step - loss: 0.0076 - accuracy: 0.9980 - val_loss: 0.0375 - val_accuracy: 0.9893\n",
            "Epoch 10/100\n",
            "469/469 [==============================] - 2s 5ms/step - loss: 0.0053 - accuracy: 0.9987 - val_loss: 0.0345 - val_accuracy: 0.9894\n",
            "Epoch 11/100\n",
            "469/469 [==============================] - 3s 6ms/step - loss: 0.0062 - accuracy: 0.9981 - val_loss: 0.0434 - val_accuracy: 0.9873\n",
            "Epoch 12/100\n",
            "469/469 [==============================] - 3s 5ms/step - loss: 0.0091 - accuracy: 0.9972 - val_loss: 0.0436 - val_accuracy: 0.9886\n",
            "Epoch 13/100\n",
            "469/469 [==============================] - 2s 5ms/step - loss: 0.0047 - accuracy: 0.9987 - val_loss: 0.0503 - val_accuracy: 0.9865\n",
            "Epoch 14/100\n",
            "469/469 [==============================] - 2s 5ms/step - loss: 0.0043 - accuracy: 0.9987 - val_loss: 0.0403 - val_accuracy: 0.9896\n",
            "Epoch 15/100\n",
            "469/469 [==============================] - 2s 5ms/step - loss: 0.0025 - accuracy: 0.9994 - val_loss: 0.0430 - val_accuracy: 0.9882\n",
            "Epoch 16/100\n",
            "469/469 [==============================] - 3s 6ms/step - loss: 0.0065 - accuracy: 0.9978 - val_loss: 0.0452 - val_accuracy: 0.9884\n",
            "Epoch 17/100\n",
            "469/469 [==============================] - 2s 5ms/step - loss: 0.0055 - accuracy: 0.9983 - val_loss: 0.0412 - val_accuracy: 0.9877\n",
            "Epoch 18/100\n",
            "469/469 [==============================] - 2s 5ms/step - loss: 0.0024 - accuracy: 0.9993 - val_loss: 0.0437 - val_accuracy: 0.9888\n",
            "Epoch 19/100\n",
            "469/469 [==============================] - 3s 7ms/step - loss: 0.0064 - accuracy: 0.9982 - val_loss: 0.0442 - val_accuracy: 0.9887\n",
            "Epoch 20/100\n",
            "469/469 [==============================] - 3s 7ms/step - loss: 0.0031 - accuracy: 0.9992 - val_loss: 0.0445 - val_accuracy: 0.9876\n",
            "Epoch 21/100\n",
            "469/469 [==============================] - 3s 7ms/step - loss: 7.6715e-04 - accuracy: 0.9999 - val_loss: 0.0400 - val_accuracy: 0.9901\n",
            "Epoch 22/100\n",
            "469/469 [==============================] - 2s 5ms/step - loss: 4.1625e-04 - accuracy: 1.0000 - val_loss: 0.0401 - val_accuracy: 0.9898\n",
            "Epoch 23/100\n",
            "469/469 [==============================] - 4s 8ms/step - loss: 3.1639e-04 - accuracy: 1.0000 - val_loss: 0.0403 - val_accuracy: 0.9901\n",
            "Epoch 24/100\n",
            "469/469 [==============================] - 3s 6ms/step - loss: 2.3510e-04 - accuracy: 1.0000 - val_loss: 0.0467 - val_accuracy: 0.9880\n",
            "Epoch 25/100\n",
            "469/469 [==============================] - 3s 7ms/step - loss: 0.0197 - accuracy: 0.9941 - val_loss: 0.0613 - val_accuracy: 0.9854\n",
            "Epoch 26/100\n",
            "469/469 [==============================] - 2s 5ms/step - loss: 0.0049 - accuracy: 0.9982 - val_loss: 0.0524 - val_accuracy: 0.9873\n",
            "Epoch 27/100\n",
            "469/469 [==============================] - 2s 5ms/step - loss: 0.0025 - accuracy: 0.9993 - val_loss: 0.0456 - val_accuracy: 0.9889\n",
            "Epoch 28/100\n",
            "469/469 [==============================] - 4s 9ms/step - loss: 5.5086e-04 - accuracy: 1.0000 - val_loss: 0.0436 - val_accuracy: 0.9893\n",
            "Epoch 29/100\n",
            "469/469 [==============================] - 3s 7ms/step - loss: 3.0529e-04 - accuracy: 1.0000 - val_loss: 0.0418 - val_accuracy: 0.9898\n",
            "Epoch 30/100\n",
            "469/469 [==============================] - 2s 5ms/step - loss: 1.8872e-04 - accuracy: 1.0000 - val_loss: 0.0422 - val_accuracy: 0.9898\n",
            "Epoch 31/100\n",
            "469/469 [==============================] - 2s 5ms/step - loss: 1.5604e-04 - accuracy: 1.0000 - val_loss: 0.0421 - val_accuracy: 0.9899\n",
            "Epoch 32/100\n",
            "469/469 [==============================] - 3s 5ms/step - loss: 1.3205e-04 - accuracy: 1.0000 - val_loss: 0.0424 - val_accuracy: 0.9897\n",
            "Epoch 33/100\n",
            "469/469 [==============================] - 3s 7ms/step - loss: 1.1378e-04 - accuracy: 1.0000 - val_loss: 0.0433 - val_accuracy: 0.9901\n",
            "Epoch 34/100\n",
            "469/469 [==============================] - 2s 5ms/step - loss: 9.7491e-05 - accuracy: 1.0000 - val_loss: 0.0434 - val_accuracy: 0.9903\n",
            "Epoch 35/100\n",
            "469/469 [==============================] - 2s 5ms/step - loss: 7.9396e-05 - accuracy: 1.0000 - val_loss: 0.0437 - val_accuracy: 0.9898\n",
            "Epoch 36/100\n",
            "469/469 [==============================] - 2s 5ms/step - loss: 0.0063 - accuracy: 0.9982 - val_loss: 0.1306 - val_accuracy: 0.9730\n",
            "Epoch 37/100\n",
            "469/469 [==============================] - 2s 5ms/step - loss: 0.0202 - accuracy: 0.9937 - val_loss: 0.0477 - val_accuracy: 0.9879\n",
            "Epoch 38/100\n",
            "469/469 [==============================] - 3s 6ms/step - loss: 0.0029 - accuracy: 0.9991 - val_loss: 0.0445 - val_accuracy: 0.9894\n",
            "Epoch 39/100\n",
            "469/469 [==============================] - 2s 5ms/step - loss: 7.8374e-04 - accuracy: 0.9999 - val_loss: 0.0459 - val_accuracy: 0.9892\n",
            "Epoch 40/100\n",
            "469/469 [==============================] - 2s 5ms/step - loss: 2.8867e-04 - accuracy: 1.0000 - val_loss: 0.0461 - val_accuracy: 0.9900\n",
            "Epoch 41/100\n",
            "469/469 [==============================] - 2s 5ms/step - loss: 1.9267e-04 - accuracy: 1.0000 - val_loss: 0.0458 - val_accuracy: 0.9899\n",
            "Epoch 42/100\n",
            "469/469 [==============================] - 2s 5ms/step - loss: 1.5124e-04 - accuracy: 1.0000 - val_loss: 0.0458 - val_accuracy: 0.9901\n",
            "Epoch 43/100\n",
            "469/469 [==============================] - 3s 6ms/step - loss: 1.2414e-04 - accuracy: 1.0000 - val_loss: 0.0463 - val_accuracy: 0.9900\n",
            "Epoch 44/100\n",
            "469/469 [==============================] - 3s 5ms/step - loss: 1.0251e-04 - accuracy: 1.0000 - val_loss: 0.0464 - val_accuracy: 0.9901\n",
            "Epoch 45/100\n",
            "469/469 [==============================] - 3s 5ms/step - loss: 8.7083e-05 - accuracy: 1.0000 - val_loss: 0.0469 - val_accuracy: 0.9902\n",
            "Epoch 46/100\n",
            "469/469 [==============================] - 2s 5ms/step - loss: 7.1838e-05 - accuracy: 1.0000 - val_loss: 0.0471 - val_accuracy: 0.9899\n",
            "Epoch 47/100\n",
            "469/469 [==============================] - 3s 5ms/step - loss: 6.0730e-05 - accuracy: 1.0000 - val_loss: 0.0471 - val_accuracy: 0.9899\n",
            "Epoch 48/100\n",
            "469/469 [==============================] - 3s 6ms/step - loss: 5.0838e-05 - accuracy: 1.0000 - val_loss: 0.0484 - val_accuracy: 0.9899\n",
            "Epoch 49/100\n",
            "469/469 [==============================] - 2s 5ms/step - loss: 4.5110e-05 - accuracy: 1.0000 - val_loss: 0.0489 - val_accuracy: 0.9898\n",
            "Epoch 50/100\n",
            "469/469 [==============================] - 3s 5ms/step - loss: 3.5982e-05 - accuracy: 1.0000 - val_loss: 0.0499 - val_accuracy: 0.9901\n",
            "Epoch 51/100\n",
            "469/469 [==============================] - 2s 5ms/step - loss: 0.0172 - accuracy: 0.9955 - val_loss: 0.0709 - val_accuracy: 0.9835\n",
            "Epoch 52/100\n",
            "469/469 [==============================] - 3s 7ms/step - loss: 0.0126 - accuracy: 0.9959 - val_loss: 0.0537 - val_accuracy: 0.9876\n",
            "Epoch 53/100\n",
            "469/469 [==============================] - 3s 7ms/step - loss: 0.0029 - accuracy: 0.9991 - val_loss: 0.0521 - val_accuracy: 0.9883\n",
            "Epoch 54/100\n",
            "469/469 [==============================] - 3s 6ms/step - loss: 7.6174e-04 - accuracy: 0.9998 - val_loss: 0.0521 - val_accuracy: 0.9886\n",
            "Epoch 55/100\n",
            "469/469 [==============================] - 2s 5ms/step - loss: 5.5429e-04 - accuracy: 0.9999 - val_loss: 0.0504 - val_accuracy: 0.9889\n",
            "Epoch 56/100\n",
            "469/469 [==============================] - 2s 5ms/step - loss: 1.7085e-04 - accuracy: 1.0000 - val_loss: 0.0501 - val_accuracy: 0.9899\n",
            "Epoch 57/100\n",
            "469/469 [==============================] - 3s 6ms/step - loss: 1.2272e-04 - accuracy: 1.0000 - val_loss: 0.0507 - val_accuracy: 0.9892\n",
            "Epoch 58/100\n",
            "469/469 [==============================] - 3s 6ms/step - loss: 9.8462e-05 - accuracy: 1.0000 - val_loss: 0.0513 - val_accuracy: 0.9891\n",
            "Epoch 59/100\n",
            "469/469 [==============================] - 3s 6ms/step - loss: 8.1158e-05 - accuracy: 1.0000 - val_loss: 0.0513 - val_accuracy: 0.9894\n",
            "Epoch 60/100\n",
            "469/469 [==============================] - 2s 5ms/step - loss: 6.8481e-05 - accuracy: 1.0000 - val_loss: 0.0518 - val_accuracy: 0.9895\n",
            "Epoch 61/100\n",
            "469/469 [==============================] - 3s 5ms/step - loss: 5.7406e-05 - accuracy: 1.0000 - val_loss: 0.0520 - val_accuracy: 0.9894\n",
            "Epoch 62/100\n",
            "469/469 [==============================] - 3s 7ms/step - loss: 4.8575e-05 - accuracy: 1.0000 - val_loss: 0.0521 - val_accuracy: 0.9892\n",
            "Epoch 63/100\n",
            "469/469 [==============================] - 2s 5ms/step - loss: 4.0321e-05 - accuracy: 1.0000 - val_loss: 0.0527 - val_accuracy: 0.9892\n",
            "Epoch 64/100\n",
            "469/469 [==============================] - 2s 5ms/step - loss: 3.3700e-05 - accuracy: 1.0000 - val_loss: 0.0526 - val_accuracy: 0.9895\n",
            "Epoch 65/100\n",
            "469/469 [==============================] - 2s 5ms/step - loss: 2.7996e-05 - accuracy: 1.0000 - val_loss: 0.0532 - val_accuracy: 0.9899\n",
            "Epoch 66/100\n",
            "469/469 [==============================] - 3s 6ms/step - loss: 2.3607e-05 - accuracy: 1.0000 - val_loss: 0.0536 - val_accuracy: 0.9899\n",
            "Epoch 67/100\n",
            "469/469 [==============================] - 3s 6ms/step - loss: 1.9691e-05 - accuracy: 1.0000 - val_loss: 0.0542 - val_accuracy: 0.9899\n",
            "Epoch 68/100\n",
            "469/469 [==============================] - 2s 5ms/step - loss: 1.6093e-05 - accuracy: 1.0000 - val_loss: 0.0542 - val_accuracy: 0.9894\n",
            "Epoch 69/100\n",
            "469/469 [==============================] - 2s 5ms/step - loss: 1.3847e-05 - accuracy: 1.0000 - val_loss: 0.0549 - val_accuracy: 0.9898\n",
            "Epoch 70/100\n",
            "469/469 [==============================] - 3s 7ms/step - loss: 1.0949e-05 - accuracy: 1.0000 - val_loss: 0.0550 - val_accuracy: 0.9898\n",
            "Epoch 71/100\n",
            "469/469 [==============================] - 3s 6ms/step - loss: 9.0305e-06 - accuracy: 1.0000 - val_loss: 0.0546 - val_accuracy: 0.9906\n",
            "Epoch 72/100\n",
            "469/469 [==============================] - 3s 6ms/step - loss: 0.0222 - accuracy: 0.9941 - val_loss: 0.0562 - val_accuracy: 0.9871\n",
            "Epoch 73/100\n",
            "469/469 [==============================] - 2s 5ms/step - loss: 0.0080 - accuracy: 0.9973 - val_loss: 0.0531 - val_accuracy: 0.9879\n",
            "Epoch 74/100\n",
            "469/469 [==============================] - 2s 5ms/step - loss: 0.0015 - accuracy: 0.9995 - val_loss: 0.0499 - val_accuracy: 0.9897\n",
            "Epoch 75/100\n",
            "469/469 [==============================] - 2s 5ms/step - loss: 5.8927e-04 - accuracy: 0.9999 - val_loss: 0.0493 - val_accuracy: 0.9887\n",
            "Epoch 76/100\n",
            "469/469 [==============================] - 3s 6ms/step - loss: 1.5891e-04 - accuracy: 1.0000 - val_loss: 0.0490 - val_accuracy: 0.9889\n",
            "Epoch 77/100\n",
            "469/469 [==============================] - 3s 6ms/step - loss: 1.0622e-04 - accuracy: 1.0000 - val_loss: 0.0491 - val_accuracy: 0.9890\n",
            "Epoch 78/100\n",
            "469/469 [==============================] - 2s 5ms/step - loss: 8.3160e-05 - accuracy: 1.0000 - val_loss: 0.0493 - val_accuracy: 0.9892\n",
            "Epoch 79/100\n",
            "469/469 [==============================] - 2s 5ms/step - loss: 6.8566e-05 - accuracy: 1.0000 - val_loss: 0.0495 - val_accuracy: 0.9893\n",
            "Epoch 80/100\n",
            "469/469 [==============================] - 2s 5ms/step - loss: 5.7038e-05 - accuracy: 1.0000 - val_loss: 0.0496 - val_accuracy: 0.9896\n",
            "Epoch 81/100\n",
            "469/469 [==============================] - 3s 6ms/step - loss: 4.8005e-05 - accuracy: 1.0000 - val_loss: 0.0500 - val_accuracy: 0.9895\n",
            "Epoch 82/100\n",
            "469/469 [==============================] - 3s 6ms/step - loss: 4.1014e-05 - accuracy: 1.0000 - val_loss: 0.0506 - val_accuracy: 0.9894\n",
            "Epoch 83/100\n",
            "469/469 [==============================] - 2s 5ms/step - loss: 3.3558e-05 - accuracy: 1.0000 - val_loss: 0.0510 - val_accuracy: 0.9896\n",
            "Epoch 84/100\n",
            "469/469 [==============================] - 2s 5ms/step - loss: 2.8265e-05 - accuracy: 1.0000 - val_loss: 0.0514 - val_accuracy: 0.9898\n",
            "Epoch 85/100\n",
            "469/469 [==============================] - 2s 5ms/step - loss: 2.3449e-05 - accuracy: 1.0000 - val_loss: 0.0518 - val_accuracy: 0.9899\n",
            "Epoch 86/100\n",
            "469/469 [==============================] - 3s 6ms/step - loss: 1.9594e-05 - accuracy: 1.0000 - val_loss: 0.0527 - val_accuracy: 0.9900\n",
            "Epoch 87/100\n",
            "469/469 [==============================] - 3s 5ms/step - loss: 1.6280e-05 - accuracy: 1.0000 - val_loss: 0.0526 - val_accuracy: 0.9901\n",
            "Epoch 88/100\n",
            "469/469 [==============================] - 2s 5ms/step - loss: 1.3583e-05 - accuracy: 1.0000 - val_loss: 0.0533 - val_accuracy: 0.9901\n",
            "Epoch 89/100\n",
            "469/469 [==============================] - 2s 5ms/step - loss: 1.1206e-05 - accuracy: 1.0000 - val_loss: 0.0535 - val_accuracy: 0.9905\n",
            "Epoch 90/100\n",
            "469/469 [==============================] - 3s 5ms/step - loss: 9.2903e-06 - accuracy: 1.0000 - val_loss: 0.0542 - val_accuracy: 0.9905\n",
            "Epoch 91/100\n",
            "469/469 [==============================] - 3s 6ms/step - loss: 7.6056e-06 - accuracy: 1.0000 - val_loss: 0.0542 - val_accuracy: 0.9902\n",
            "Epoch 92/100\n",
            "469/469 [==============================] - 2s 5ms/step - loss: 6.2940e-06 - accuracy: 1.0000 - val_loss: 0.0554 - val_accuracy: 0.9904\n",
            "Epoch 93/100\n",
            "469/469 [==============================] - 2s 5ms/step - loss: 5.2238e-06 - accuracy: 1.0000 - val_loss: 0.0553 - val_accuracy: 0.9907\n",
            "Epoch 94/100\n",
            "469/469 [==============================] - 2s 5ms/step - loss: 4.2643e-06 - accuracy: 1.0000 - val_loss: 0.0559 - val_accuracy: 0.9908\n",
            "Epoch 95/100\n",
            "469/469 [==============================] - 2s 5ms/step - loss: 3.4808e-06 - accuracy: 1.0000 - val_loss: 0.0570 - val_accuracy: 0.9906\n",
            "Epoch 96/100\n",
            "469/469 [==============================] - 3s 6ms/step - loss: 2.8664e-06 - accuracy: 1.0000 - val_loss: 0.0578 - val_accuracy: 0.9906\n",
            "Epoch 97/100\n",
            "469/469 [==============================] - 2s 5ms/step - loss: 2.5706e-06 - accuracy: 1.0000 - val_loss: 0.0588 - val_accuracy: 0.9904\n",
            "Epoch 98/100\n",
            "469/469 [==============================] - 2s 5ms/step - loss: 0.0183 - accuracy: 0.9954 - val_loss: 0.0838 - val_accuracy: 0.9859\n",
            "Epoch 99/100\n",
            "469/469 [==============================] - 2s 5ms/step - loss: 0.0090 - accuracy: 0.9971 - val_loss: 0.0644 - val_accuracy: 0.9865\n",
            "Epoch 100/100\n",
            "469/469 [==============================] - 2s 5ms/step - loss: 0.0024 - accuracy: 0.9990 - val_loss: 0.0589 - val_accuracy: 0.9877\n"
          ]
        }
      ]
    },
    {
      "cell_type": "code",
      "source": [
        "score = model.evaluate(x_test,y_test)\n",
        "\n",
        "print(\"Test loss:\",score[0])\n",
        "print(\"Test accuracy:\",score[1])"
      ],
      "metadata": {
        "colab": {
          "base_uri": "https://localhost:8080/"
        },
        "id": "faE09LeVoKBZ",
        "outputId": "8f3a078a-35a7-4632-de49-2ab33179f5db"
      },
      "execution_count": 16,
      "outputs": [
        {
          "output_type": "stream",
          "name": "stdout",
          "text": [
            "313/313 [==============================] - 1s 3ms/step - loss: 0.0589 - accuracy: 0.9877\n",
            "Test loss: 0.05894036963582039\n",
            "Test accuracy: 0.9876999855041504\n"
          ]
        }
      ]
    },
    {
      "cell_type": "code",
      "source": [
        "model.save('my_model.h5')"
      ],
      "metadata": {
        "id": "3WUrZ0WN6SnR"
      },
      "execution_count": 18,
      "outputs": []
    },
    {
      "cell_type": "code",
      "source": [
        "score = model.evaluate(x_test,y_test)\n",
        "\n",
        "print(\"Test loss:\",score[0])\n",
        "print(\"Test accuracy:\",score[1])"
      ],
      "metadata": {
        "colab": {
          "base_uri": "https://localhost:8080/"
        },
        "id": "mYp4hOUB7UCi",
        "outputId": "f34bc18a-a384-4d88-d540-20c9760acc69"
      },
      "execution_count": 20,
      "outputs": [
        {
          "output_type": "stream",
          "name": "stdout",
          "text": [
            "313/313 [==============================] - 1s 3ms/step - loss: 0.0589 - accuracy: 0.9877\n",
            "Test loss: 0.05894036963582039\n",
            "Test accuracy: 0.9876999855041504\n"
          ]
        }
      ]
    },
    {
      "cell_type": "code",
      "source": [
        "model = tf.keras.models.load_model('my_model.h5')"
      ],
      "metadata": {
        "id": "XQH6O67S7QQW"
      },
      "execution_count": 19,
      "outputs": []
    }
  ]
}