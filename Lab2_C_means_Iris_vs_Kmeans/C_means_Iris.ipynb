{
  "cells": [
    {
      "cell_type": "code",
      "execution_count": null,
      "metadata": {
        "colab": {
          "base_uri": "https://localhost:8080/",
          "height": 1000
        },
        "id": "t165umaBYZIg",
        "outputId": "277deab0-30bf-4c55-cdb8-a8e7feadf1a4"
      },
      "outputs": [
        {
          "ename": "",
          "evalue": "",
          "output_type": "error",
          "traceback": [
            "\u001b[1;31mRunning cells with 'd:\\New Software\\Python310\\python.exe' requires the ipykernel package.\n",
            "\u001b[1;31mRun the following command to install 'ipykernel' into the Python environment. \n",
            "\u001b[1;31mCommand: '\"d:/New Software/Python310/python.exe\" -m pip install ipykernel -U --user --force-reinstall'"
          ]
        }
      ],
      "source": [
        "import numpy as np\n",
        "import pandas as pd\n",
        "import matplotlib.pyplot as plt\n",
        "import random\n",
        "import sys\n",
        "\n",
        "# path1 = 'iris.csv'\n",
        "df = pd.read_csv(\"iris.csv\")\n",
        "\n",
        "X = df[[\"sepal_length\",\t\"sepal_width\",\t\"petal_length\",\t\"petal_width\"]].to_numpy()\n",
        "Y = df[\"species\"].to_numpy()\n",
        "\n",
        "\n"
      ]
    }
  ],
  "metadata": {
    "colab": {
      "provenance": []
    },
    "kernelspec": {
      "display_name": "Python 3",
      "name": "python3"
    },
    "language_info": {
      "name": "python",
      "version": "3.10.6"
    }
  },
  "nbformat": 4,
  "nbformat_minor": 0
}
